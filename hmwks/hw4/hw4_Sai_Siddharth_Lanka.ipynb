{
 "cells": [
  {
   "cell_type": "markdown",
   "metadata": {},
   "source": [
    "# Homework 4: SVM\n",
    "\n",
    "\n",
    "This assignment is due on Moodle by **11:59pm on Friday November 8**. \n",
    "Your solutions to theoretical questions should be done in Markdown/MathJax directly below the associated question.\n",
    "Your solutions to computational questions should include any specified Python code and results \n",
    "as well as written commentary on your conclusions.\n",
    "Remember that you are encouraged to discuss the problems with your instructors and classmates, \n",
    "but **you must write all code and solutions on your own**. For a refresher on the course **Collaboration Policy** click [here](https://github.com/BoulderDS/CSCI5622-Machine-Learning/blob/master/info/syllabus.md#collaboration-policy).\n",
    "\n",
    "**NOTES**: \n",
    "\n",
    "- Do **NOT** load or use any Python packages that are not available in Anaconda (Version: 2019.07) with Python 3.7. \n",
    "- Some problems with code may be autograded.  If we provide a function API **do not** change it.  If we do not provide a function API then you're free to structure your code however you like. \n",
    "- Submit only this Jupyter notebook to Moodle.  Do not compress it using tar, rar, zip, etc. \n",
    "- In this homework you will explore the primal and dual representations of support vector machines, as well as the performance of various kernels while classifying sentiments. Install the following packages: `nltk` (Version: 3.4.5), `scikit-learn` (Version: 0.21.3)\n"
   ]
  },
  {
   "cell_type": "markdown",
   "metadata": {},
   "source": [
    "**Name**: Sai Siddharth Lanka  \n",
    "**Identikey**: sala1847  \n",
    "**Email**: sala1847@colorado.edu"
   ]
  },
  {
   "cell_type": "code",
   "execution_count": 2,
   "metadata": {
    "ExecuteTime": {
     "end_time": "2019-11-09T01:47:10.852500Z",
     "start_time": "2019-11-09T01:47:10.126195Z"
    }
   },
   "outputs": [],
   "source": [
    "import math\n",
    "import pickle\n",
    "import gzip\n",
    "import numpy as np\n",
    "import pandas\n",
    "import matplotlib.pylab as plt\n",
    "%matplotlib inline"
   ]
  },
  {
   "cell_type": "markdown",
   "metadata": {},
   "source": [
    "[40 Points] Problem 1 - Basic concepts of SVM\n",
    "---\n",
    "\n",
    "**Part 1 [10 points]:** \n",
    "* What are the main differences between the primal and the dual representations?\n",
    "* For the variables $\\xi_i$, $C$ in the primal formation, what are their roles? Write out the upper/lower bounds (constraints) of these variables. What are the interpretation for these maximum/minimum values?\n",
    "* For the variable $\\alpha_i$, $\\beta_i$ in the dual formation, what are the upper/lower bound (constraints) of them?"
   ]
  },
  {
   "cell_type": "markdown",
   "metadata": {
    "collapsed": true,
    "nbgrader": {
     "cell_type": "markdown",
     "checksum": "f616bf5ea6cd25ba5b9bbbf94bb465f5",
     "grade": true,
     "grade_id": "cell-f177349aed9aabcf",
     "locked": false,
     "points": 10,
     "schema_version": 3,
     "solution": true
    }
   },
   "source": [
    "*** Question 1 ***\n",
    "\n",
    "-   We introduce the duality condition since it's easier to solve constrained optimization problem.\n",
    "\\begin{equation}\n",
    "  min_{w,b} 1/2 * ||w||^2\n",
    "\\end{equation}\n",
    "\n",
    "-  We convert the primal problem into a lagrangian dual problem and add a few lagrangian multipliers alpha and beta and solve for the original variables in the primal problem that minimize the objective function. The objective function in the dual case is the lagrange's dual function. Alpha is greater than zero for all the support vectors which in turn contribute to w.\n",
    "\n",
    "-  In the primal problem we are trying to minimize or solve the constrained optimization problem subject to a few constraints and inequalities.\n",
    "\n",
    "*** Question 2 ***\n",
    "\n",
    "-  We introduce those variables in the soft margin SVM case where the data is not linearly separable. By introducing the slack variable $\\xi_i$ we allow a certain number of training points to be misclassified or on the wrong side of decision boundary.\n",
    "\n",
    "-  $C$ describes the trade-off between margin and the slack variables. If we use a relatively high C, then w would no longer matter and we may end up with a relatively high margin and a smaller slack. A high C would also decrease bias and increase variance when compared with regularisation.\n",
    "\n",
    "- The constrained optimization problem becomes:\n",
    "\n",
    "\\begin{equation}\n",
    "      min_{w,b} 1/2 * ||w||^2 + C * \\sum_{i=1}^{n} \\xi_i  \\\\ \\text{s.t.}\n",
    "       y_{i} * (w_{i}*x + b) \\geq 1 - \\xi_i     \n",
    "\\end{equation}\n",
    "\\begin{equation}\n",
    "      \\xi_i \\geq 0\n",
    "\\end{equation}\n",
    "\n",
    "-  $\\xi_i$ = 0 means atleast one margin on correct side of decision boundary\n",
    "-  $\\xi_i$ > 0 means there are some points on the wrong side of the decision boundary\n",
    "\n",
    "*** Question 3 ***\n",
    "\\begin{equation}\n",
    " \\alpha_{i} \\geq 0, i \\in [1, n]\n",
    "\\end{equation}\n",
    "\\begin{equation}\n",
    "    \\beta_{i} \\geq 0, i \\in [1,n]\n",
    "\\end{equation}\n",
    "\\begin{equation}\n",
    "    \\alpha_{i} + \\beta_{i} = C\n",
    "\\end{equation}"
   ]
  },
  {
   "cell_type": "markdown",
   "metadata": {},
   "source": [
    "**Part 2 [20 points]:** \n",
    "\n",
    " * Given a weight vector, implement the `find_support` function that returns the indices of the support vectors.\n",
    " * Given a weight vector, implement the `find_slack` function that returns the indices of the vectors with nonzero slack.\n",
    " * Given the alpha dual vector, implement the `weight_vector` function that returns the corresponding weight vector."
   ]
  },
  {
   "cell_type": "code",
   "execution_count": 3,
   "metadata": {
    "ExecuteTime": {
     "end_time": "2019-11-09T01:47:20.418922Z",
     "start_time": "2019-11-09T01:47:20.406615Z"
    },
    "nbgrader": {
     "cell_type": "code",
     "checksum": "95c07ce92336485501945c905ee57cdd",
     "grade": false,
     "grade_id": "cell-14c104d96c00c2eb",
     "locked": false,
     "schema_version": 3,
     "solution": true
    }
   },
   "outputs": [],
   "source": [
    "class SVM:\n",
    "    \n",
    "    def __init__(self):\n",
    "        self.kINSP = np.array([(1, 8, +1),\n",
    "                       (7, 2, -1),\n",
    "                       (6, -1, -1),\n",
    "                       (-5, 0, +1),\n",
    "                       (-5, 1, -1),\n",
    "                       (-5, 2, +1),\n",
    "                       (6, 3, +1),\n",
    "                       (6, 1, -1),\n",
    "                       (5, 2, -1)])\n",
    "        self.kSEP = np.array([(-2, 2, +1),    # 0 - A\n",
    "                      (0, 4, +1),             # 1 - B\n",
    "                      (2, 1, +1),             # 2 - C\n",
    "                      (-2, -3, -1),           # 3 - D\n",
    "                      (0, -1, -1),            # 4 - E\n",
    "                      (2, -3, -1),            # 5 - F\n",
    "                      ])\n",
    "\n",
    "\n",
    "    def weight_vector(self, x, y, alpha):\n",
    "        \"\"\"\n",
    "        Given a vector of alphas, compute the primal weight vector w.\n",
    "        The vector w should be returned as an Numpy array.\n",
    "        \"\"\"\n",
    "        w = np.zeros(len(x[0]))\n",
    "        # YOUR CODE HERE\n",
    "        for index, value in enumerate(x):\n",
    "            alpha_y = y[index] * alpha[index]\n",
    "            w = w + np.dot(alpha_y, value)\n",
    "        return w\n",
    "\n",
    "\n",
    "    def find_support(self, x, y, w, b, tolerance=0.001):\n",
    "        \"\"\"\n",
    "        Given a set of training examples and primal weights, return the indices\n",
    "        of all of the support vectors as a set.\n",
    "        \"\"\"\n",
    "        support = set()\n",
    "        # YOUR CODE HERE\n",
    "        for index, value in enumerate(x):\n",
    "            dot_product = (np.dot(value, w) + b)\n",
    "            print('Dot Product: ', y[index]*dot_product)\n",
    "            if np.abs(y[index]*dot_product) - 1 <= tolerance:\n",
    "                support.add(index)\n",
    "        return support\n",
    "\n",
    "\n",
    "\n",
    "    def find_slack(self, x, y, w, b):\n",
    "        \"\"\"\n",
    "        Given a set of training examples and primal weights, return the indices\n",
    "        of all examples with nonzero slack as a set.\n",
    "        \"\"\"\n",
    "        slack = set()\n",
    "        # YOUR CODE HERE\n",
    "        for index, value in enumerate(x):\n",
    "            dot_product = np.dot(value, w) + b\n",
    "            if y[index]*dot_product < 1:\n",
    "                slack.add(index)\n",
    "        return slack"
   ]
  },
  {
   "cell_type": "code",
   "execution_count": 4,
   "metadata": {
    "ExecuteTime": {
     "end_time": "2019-11-09T01:47:21.809840Z",
     "start_time": "2019-11-09T01:47:21.780866Z"
    },
    "deletable": false,
    "editable": false,
    "nbgrader": {
     "cell_type": "code",
     "checksum": "3aa73cc220bc2b16c09b0e72ebd10dfa",
     "grade": true,
     "grade_id": "cell-3c7d7f432578009e",
     "locked": true,
     "points": 20,
     "schema_version": 3,
     "solution": false
    }
   },
   "outputs": [
    {
     "name": "stderr",
     "output_type": "stream",
     "text": [
      "TestWideSlack (tests.tests.TestSVM) ... ok\n",
      "TestNarrowSlack (tests.tests.TestSVM) ... ok\n",
      "TestSupport (tests.tests.TestSVM) ... ok\n",
      "TestWeight (tests.tests.TestSVM) ... "
     ]
    },
    {
     "name": "stdout",
     "output_type": "stream",
     "text": [
      "Dot Product:  1.0000000000000002\n",
      "Dot Product:  3.0\n",
      "Dot Product:  1.0000000000000002\n",
      "Dot Product:  3.0000000000000004\n",
      "Dot Product:  1.0\n",
      "Dot Product:  2.2000000000000006\n"
     ]
    },
    {
     "name": "stderr",
     "output_type": "stream",
     "text": [
      "ok\n",
      "\n",
      "----------------------------------------------------------------------\n",
      "Ran 4 tests in 0.014s\n",
      "\n",
      "OK\n"
     ]
    }
   ],
   "source": [
    "from tests import tests\n",
    "tests.run_test_suite(\"prob 1\", SVM)"
   ]
  },
  {
   "cell_type": "markdown",
   "metadata": {},
   "source": [
    "**Part 3 [10 points]:** \n",
    "\n",
    "The goal of this problem is to correctly classify test data points, given a training data set.\n",
    "For this problem, assume that we are training an SVM with a quadratic kernel, which means our kernel function is a polynomial kernel of degree 2. You are given the data set presented in the figure below. The slack penalty $C$ will determine the location of the decision boundary.\n",
    "\n",
    "Justify the following questions in a sentence or via drawing decision boundary.\n",
    "![training_data](./data/data.png)\n",
    "\n",
    "* Where would the decision boundary be for very large values of $C$ ?\n",
    "* Where you would expect the decision boundary to be if  $C = 0$ ?\n",
    "* Which of the two cases above would you expect to generalize better on test data? Why?"
   ]
  },
  {
   "cell_type": "markdown",
   "metadata": {
    "nbgrader": {
     "cell_type": "markdown",
     "checksum": "985db05b9496fb3714ee2096479f6f7d",
     "grade": true,
     "grade_id": "cell-02406ba497be1623",
     "locked": false,
     "points": 10,
     "schema_version": 3,
     "solution": true
    }
   },
   "source": [
    "YOUR ANSWER HERE\n",
    "\n",
    "-  For large values of C, the weights would no longer matter and would result in a big margin. The polynomial that gives the largest margin would be the decision boundary. \n",
    "- When C = 0, a circle separating the two classes can be the decision boundary.\n",
    "- On test data C=0 may perform better because a high C value decreases bias and increases variance. The decision boundary is sensitive to the values of C. C=0 should generalize better on test data."
   ]
  },
  {
   "cell_type": "markdown",
   "metadata": {},
   "source": [
    "[30 points] Problem 2 - The Kernel Trick\n",
    "---\n",
    "The kernel trick can make SVM powerful and become non-linear. In this problem we will get familiar with the kernel trick.\n",
    "\n",
    "**Part 1 [10 points]:**\n",
    "\n",
    "We will construct a support vector machine that computes the XOR function, using values of +1 and −1 (instead of 1 and 0) for both inputs and outputs, so that an example looks like ($[−1, 1], 1$) or ($[−1, −1], −1$). Map the input $[x_1, x_2]$ into a space consisting of $x_1$ and $x_1x_2$. Plot the four input points in this space, and the maximal margin separator. Give the margin value in the markdown cell. Remeber to indicate which points have output +1 and which -1."
   ]
  },
  {
   "cell_type": "code",
   "execution_count": 5,
   "metadata": {
    "ExecuteTime": {
     "end_time": "2019-11-09T01:47:28.409483Z",
     "start_time": "2019-11-09T01:47:27.953915Z"
    }
   },
   "outputs": [
    {
     "data": {
      "image/png": "[encoded data removed]",
      "text/plain": [
       "<Figure size 432x288 with 1 Axes>"
      ]
     },
     "metadata": {},
     "output_type": "display_data"
    }
   ],
   "source": [
    "x1 = [-1,1]\n",
    "x1_x2 = [1,1]\n",
    "\n",
    "x1_scatter_2 = [-1,1]\n",
    "x1_x2_scatter_2 = [-1,-1]\n",
    "color=['g', 'g']\n",
    "plt.scatter(x1,x1_x2, s=50 ,marker='o', c=color, label='-1') \n",
    "plt.scatter(x1_scatter_2, x1_x2_scatter_2, marker='+', c=['blue', 'blue'], label='+1')\n",
    "plt.plot([-1.25, -1, -0.75, -0.5, -0.25, 0, 0.25, 0.5, 0.75, 1, 1.25], [0, 0, 0, 0, 0, 0, 0, 0, 0 , 0, 0], 'r--') \n",
    "\n",
    "plt.xlabel('x1', fontsize=18)\n",
    "plt.ylabel('x1^x2', fontsize=16)\n",
    "plt.legend(loc='best')\n",
    "plt.grid()\n"
   ]
  },
  {
   "cell_type": "markdown",
   "metadata": {
    "ExecuteTime": {
     "end_time": "2019-11-08T18:53:04.232152Z",
     "start_time": "2019-11-08T18:53:04.221862Z"
    },
    "nbgrader": {
     "cell_type": "code",
     "checksum": "e495557a163be3eb33fccc9d445e8de3",
     "grade": false,
     "grade_id": "cell-20ea52b04bb94dee",
     "locked": false,
     "schema_version": 3,
     "solution": true,
     "task": false
    }
   },
   "source": [
    "### Truth table for XOR function\n",
    "\n",
    "|x1 |   x2   |  x1 xor x2  |\n",
    "|---| -----  |   --------  |\n",
    "|-1 |   -1   |    -1       |\n",
    "|-1 |    1   |     1       |\n",
    "| 1 |   -1   |     1       |\n",
    "| 1 |    1   |    -1       |\n",
    "\n",
    "### Truth table after transformation\n",
    "\n",
    "|x1 |   x3=x1x2    |   x1 xor x2    |\n",
    "|---|   -----      |   --------     |\n",
    "|-1 |     1        |       -1       |\n",
    "|-1 |    -1        |        1       |\n",
    "| 1 |    -1        |        1       |\n",
    "| 1 |     1        |       -1       |\n",
    "\n",
    "The margin after the transformation is the equation of the line passing through x-axis(y=0). In our case this becomes x1*x2 = 0. The points with output -1 lie above the x-axis and the points below the x-axis are training points with output 1.\n",
    "\n",
    "*** The margin is 1 ***\n",
    "\n",
    "\n"
   ]
  },
  {
   "cell_type": "markdown",
   "metadata": {
    "nbgrader": {
     "cell_type": "markdown",
     "checksum": "21d15db327a141bbe8d5bf2323358407",
     "grade": true,
     "grade_id": "cell-64bbc4980b5c4edd",
     "locked": false,
     "points": 10,
     "schema_version": 3,
     "solution": true,
     "task": false
    }
   },
   "source": [
    "YOUR ANSWER HERE"
   ]
  },
  {
   "cell_type": "markdown",
   "metadata": {},
   "source": [
    "**Part 2 [5 points]:** Plot the separating line of **Part 1** back in the original Euclidean input space."
   ]
  },
  {
   "cell_type": "code",
   "execution_count": 6,
   "metadata": {
    "ExecuteTime": {
     "end_time": "2019-11-09T01:47:35.867985Z",
     "start_time": "2019-11-09T01:47:35.536028Z"
    },
    "nbgrader": {
     "cell_type": "code",
     "checksum": "e6e323e18881c3d6be9b1ff2abd3d8ac",
     "grade": true,
     "grade_id": "cell-9020bbe03ed87cfc",
     "locked": false,
     "points": 5,
     "schema_version": 3,
     "solution": true,
     "task": false
    }
   },
   "outputs": [
    {
     "data": {
      "image/png": "[encoded data removed]",
      "text/plain": [
       "<Figure size 432x288 with 1 Axes>"
      ]
     },
     "metadata": {},
     "output_type": "display_data"
    }
   ],
   "source": [
    "# YOUR CODE HERE\n",
    "x1 = [-1,1]\n",
    "x1_x2 = [-1,1]\n",
    "\n",
    "x1_scatter_2 = [-1,1]\n",
    "x1_x2_scatter_2 = [1,-1]\n",
    "color=['g', 'g']\n",
    "plt.scatter(x1,x1_x2, s=50 ,marker='o', c=color, label='-1') \n",
    "plt.scatter(x1_scatter_2, x1_x2_scatter_2, marker='+', c=['blue', 'blue'], label='+1')\n",
    "plt.plot([-1.25, -1, -0.75, -0.5, -0.25, 0, 0.25, 0.5, 0.75, 1, 1.25], [0, 0, 0, 0, 0, 0, 0, 0, 0 , 0, 0], 'r--') \n",
    "plt.plot([0, 0, 0, 0, 0, 0, 0, 0, 0 , 0, 0], [-1.25, -1, -0.75, -0.5, -0.25, 0, 0.25, 0.5, 0.75, 1, 1.25],'r--') \n",
    "plt.xlabel('x1', fontsize=18)\n",
    "plt.ylabel('x2', fontsize=16)\n",
    "plt.legend(loc='best')\n",
    "plt.grid()"
   ]
  },
  {
   "cell_type": "markdown",
   "metadata": {},
   "source": [
    "**Part 3 [5 points]:** Is the seporater in **Part 1** linear? Is the one in **Part 2** linear? Explain your answer."
   ]
  },
  {
   "cell_type": "markdown",
   "metadata": {
    "nbgrader": {
     "cell_type": "markdown",
     "checksum": "8821f5382c580de24c483bd1a0cd4b31",
     "grade": true,
     "grade_id": "cell-119e16472d287f4e",
     "locked": false,
     "points": 5,
     "schema_version": 3,
     "solution": true,
     "task": false
    }
   },
   "source": [
    "The separator in Part1 is linear. After applying the feature transformation, the data is linearly separable and a linear decision boundary can be obtained for that particular data point. When we plot those lines back in the original euclidean space(x1=0, x2=0), it's not linear anymore as the data itself is not linearly separable."
   ]
  },
  {
   "cell_type": "markdown",
   "metadata": {},
   "source": [
    "**Part 4 [10 points]:**\n",
    "The key point of the so-called “kernel trick” in SVMs is to learn a classifier that effectively separates the training data in a higher dimensional space without having to explicitly compute the representation $\\phi(\\mathbf{x})$ of every point $\\mathbf{x}$ in the original input space. Instead, all the work is done through the kernel function $K(\\mathbf{x}_i, \\mathbf{x}_i)$, for example, we can use $K(\\mathbf{x}_i, \\mathbf{x}_i) = \\phi(\\mathbf{x}_i)\\phi(\\mathbf{x}_j)$.\n",
    "\n",
    "Show how to compute the squared Euclidean distance in the projected space between any two points $\\mathbf{x}_i$, $\\mathbf{x}_j$ in the original space without explicitly computing the $\\phi$ mapping, instead using the kernel function $K$. In other words, derive $d(\\phi(\\mathbf{x}_i), \\phi(\\mathbf{x}_j))$ into a form using only the kernel function."
   ]
  },
  {
   "cell_type": "markdown",
   "metadata": {
    "nbgrader": {
     "cell_type": "markdown",
     "checksum": "3beedd96d39e9c464377ae2885f78ba0",
     "grade": true,
     "grade_id": "cell-c6b6512e7d992202",
     "locked": false,
     "points": 10,
     "schema_version": 3,
     "solution": true,
     "task": false
    }
   },
   "source": [
    "YOUR ANSWER HERE\n",
    "\n",
    "\\begin{equation}\n",
    "d(\\phi(\\mathbf{x}_i), \\phi(\\mathbf{x}_j)) = (\\phi(\\mathbf{x}_i) - \\phi(\\mathbf{x}_j))^2\n",
    "\\end{equation}\n",
    "\n",
    "\\begin{equation}\n",
    "d(\\phi(\\mathbf{x}_i), \\phi(\\mathbf{x}_j)) = (\\phi(\\mathbf{x}_i))^2 + (\\phi(\\mathbf{x}_j))^2 - 2\\phi(\\mathbf{x}_i)\\phi(\\mathbf{x}_j)\n",
    "\\end{equation}\n",
    "\n",
    "\\begin{equation}\n",
    "d(\\phi(\\mathbf{x}_i), \\phi(\\mathbf{x}_j)) = \\phi(\\mathbf{x}_i)\\phi(\\mathbf{x}_i) + \\phi(\\mathbf{x}_j\\phi(\\mathbf{x}_j) - 2K(\\mathbf{x}_i, \\mathbf{x}_j)\n",
    "\\end{equation}\n",
    "\n",
    "\\begin{equation}\n",
    "d(\\phi(\\mathbf{x}_i), \\phi(\\mathbf{x}_j)) = K(\\mathbf{x}_i, \\mathbf{x}_i) + K(\\mathbf{x}_j, \\mathbf{x}_j) - 2K(\\mathbf{x}_i, \\mathbf{x}_j)\n",
    "\\end{equation}"
   ]
  },
  {
   "cell_type": "markdown",
   "metadata": {},
   "source": [
    "[30 points] Problem 3 - SVM with `sklearn`\n",
    "---\n",
    "\n",
    "In this problem, you will get familiar with important practical functions in scikit-learn such as pipeline, grid search, and cross validation. You will experiment with these using support vector machines.\n",
    "\n",
    "Note that grid search can take some time on your laptop, so make sure that your code is correct with a small subset of the training data and search a reasonable number of options.\n",
    "\n",
    "* Use the Sklearn implementation of support vector machines to train a classifier to distinguish Positive and negative sentiments\n",
    "* Experiment with linear, polynomial, and RBF kernels. First, perform a GridSearch over each kernel function and a small set of parameters defined over a wide range to help narrow down the search space.\n",
    "* Then choose the best performing kernel from your coarse scale search and define a narrower set of parameters for random search to further optimize the hyperparameters. Comment on the experiments you ran and optimal hyperparameters you found.\n",
    "Hint: http://scikit-learn.org/stable/modules/grid_search.html\n",
    "* Evaluate classification performance for each model for optimal parameters by testing on a hold-out set.\n",
    "\n",
    "Following is a dataset containing reviews and sentiments associated with it.\n",
    "\n",
    "We will create a SVM Classifier to predict positive or negative sentiments."
   ]
  },
  {
   "cell_type": "code",
   "execution_count": 7,
   "metadata": {
    "ExecuteTime": {
     "end_time": "2019-11-09T01:47:47.535568Z",
     "start_time": "2019-11-09T01:47:46.678887Z"
    }
   },
   "outputs": [
    {
     "name": "stdout",
     "output_type": "stream",
     "text": [
      "Length of X_train:  4000\n",
      "Length of y_train:  4000\n"
     ]
    }
   ],
   "source": [
    "import pandas as pd\n",
    "from sklearn.model_selection import train_test_split, StratifiedKFold\n",
    "reviews  = pd.read_csv('./data/reviews.csv')\n",
    "train, test = train_test_split(reviews, test_size=0.2, random_state=5622)\n",
    "X_train = train['reviews']\n",
    "X_test = test['reviews']\n",
    "y_train = train['sentiment']\n",
    "y_test = test['sentiment']\n",
    "\n",
    "# X_train = X_train[:100]\n",
    "# y_train = y_train[:100]\n",
    "\n",
    "# X_train = X_train[3000:]\n",
    "# X_test = X_test[500:]\n",
    "# Y_train = y_train[3000:]\n",
    "# y_test = y_test[500:]\n",
    "print('Length of X_train: ', len(X_train))\n",
    "print('Length of y_train: ', len(y_train))"
   ]
  },
  {
   "cell_type": "code",
   "execution_count": 8,
   "metadata": {
    "ExecuteTime": {
     "end_time": "2019-11-09T01:47:52.337857Z",
     "start_time": "2019-11-09T01:47:52.325944Z"
    }
   },
   "outputs": [
    {
     "data": {
      "text/plain": [
       "(4000, 1995, 1000, 505)"
      ]
     },
     "execution_count": 8,
     "metadata": {},
     "output_type": "execute_result"
    }
   ],
   "source": [
    "len(X_train),sum(y_train),len(X_test),sum(y_test)"
   ]
  },
  {
   "cell_type": "code",
   "execution_count": 9,
   "metadata": {
    "ExecuteTime": {
     "end_time": "2019-11-09T01:47:53.749860Z",
     "start_time": "2019-11-09T01:47:53.339238Z"
    }
   },
   "outputs": [],
   "source": [
    "import nltk\n",
    "from nltk.corpus import stopwords\n",
    "from nltk.tokenize import TweetTokenizer\n",
    "from sklearn.feature_extraction.text import CountVectorizer\n",
    "from sklearn.svm import SVC\n",
    "from sklearn.pipeline import make_pipeline, Pipeline\n",
    "from sklearn.model_selection import GridSearchCV, RandomizedSearchCV\n",
    "from sklearn.metrics import accuracy_score, f1_score\n",
    "from sklearn.metrics import confusion_matrix, roc_auc_score, recall_score, precision_score"
   ]
  },
  {
   "cell_type": "markdown",
   "metadata": {},
   "source": [
    "**Part 1 [5 points]:**\n",
    "\n",
    "Use `CountVectorizer` to vectorize reviews as dictionary of term frequencies.\n",
    "Define the crossvalidation split using `StratifiedKFold`."
   ]
  },
  {
   "cell_type": "code",
   "execution_count": 10,
   "metadata": {
    "ExecuteTime": {
     "end_time": "2019-11-09T01:48:03.389222Z",
     "start_time": "2019-11-09T01:47:58.659765Z"
    },
    "nbgrader": {
     "cell_type": "code",
     "checksum": "ff5c05e229aacfb20ead9cab47a30752",
     "grade": true,
     "grade_id": "cell-ab58d371c35713b4",
     "locked": false,
     "points": 5,
     "schema_version": 3,
     "solution": true
    }
   },
   "outputs": [
    {
     "name": "stdout",
     "output_type": "stream",
     "text": [
      "[nltk_data] Downloading package stopwords to\n",
      "[nltk_data]     /Users/siddharthlanka/nltk_data...\n",
      "[nltk_data]   Package stopwords is already up-to-date!\n"
     ]
    }
   ],
   "source": [
    "def tokenize(text): \n",
    "    tknzr = TweetTokenizer()\n",
    "    return tknzr.tokenize(text)\n",
    "\n",
    "nltk.download('stopwords')\n",
    "en_stopwords = set(stopwords.words(\"english\")) \n",
    "\n",
    "# CREATE CountVectorizer using sklearn.feature_extraction.text.CountVectorizer\n",
    "# Hint: use the above tokenize function\n",
    "# Hint: play with different parameters, in particular, min_df can help with generalizability\n",
    "# YOUR CODE HERE\n",
    "vectorizer = CountVectorizer(tokenizer=tokenize, min_df=2, stop_words=en_stopwords)\n",
    "X = vectorizer.fit_transform(X_train)\n",
    "# print(\"Feature Names: \", vectorizer.get_feature_names())\n",
    "# split dataset using StratifiedKFold into 5 splits using sklearn.model_selection.StratifiedKFold.\n",
    "# YOUR CODE HERE\n",
    "from sklearn.model_selection import StratifiedKFold\n",
    "skf = StratifiedKFold(n_splits=5, shuffle=True, random_state=5622)"
   ]
  },
  {
   "cell_type": "markdown",
   "metadata": {},
   "source": [
    "***NOTE: I'm on a  dual core I5 with hyperthreading so the GridSearch took about 24 minutes to run. I tried parallelizing it by setting n_jobs to -1 but to no increase in time.***"
   ]
  },
  {
   "cell_type": "markdown",
   "metadata": {},
   "source": [
    "**Part 2 [10 points]:**\n",
    "* Create a pipeline with our `CountVectorizer` object in **Part 1** and an SVM Classifier.\n",
    "* Create and fit a `GridSearchCV` object with the following parameter values:\n",
    "  * Linear kernel, $C = 0.01, 1.0, 10.0$\n",
    "  * Polynomial kernel, $\\text{degree} = 2, 3$, $\\gamma = 0.1, 0.5, 1$\n",
    "  * RBF kernel, $\\gamma = 0.1, 0.5, 1$\n",
    "* Report accuracy on the best estimator from our `GridSearchCV` object."
   ]
  },
  {
   "cell_type": "code",
   "execution_count": 11,
   "metadata": {
    "ExecuteTime": {
     "end_time": "2019-11-09T02:11:05.484915Z",
     "start_time": "2019-11-09T01:48:16.792488Z"
    },
    "nbgrader": {
     "cell_type": "code",
     "checksum": "88d870b8bb537716016ae1577d22d90b",
     "grade": true,
     "grade_id": "cell-a3dd5b25a9ce8feb",
     "locked": false,
     "points": 5,
     "schema_version": 3,
     "solution": true
    }
   },
   "outputs": [
    {
     "data": {
      "text/plain": [
       "GridSearchCV(cv=None, error_score='raise',\n",
       "       estimator=Pipeline(memory=None,\n",
       "     steps=[('vectorizer', CountVectorizer(analyzer='word', binary=False, decode_error='strict',\n",
       "        dtype=<class 'numpy.int64'>, encoding='utf-8', input='content',\n",
       "        lowercase=True, max_df=1.0, max_features=None, min_df=2,\n",
       "        ngram_range=(1, 1), preprocessor=None,\n",
       "        stop_words={'the...,\n",
       "  max_iter=-1, probability=False, random_state=None, shrinking=True,\n",
       "  tol=0.001, verbose=False))]),\n",
       "       fit_params=None, iid=True, n_jobs=-1,\n",
       "       param_grid={'svm__C': [0.01, 1.0, 10.0], 'svm__degree': [2, 3], 'svm__kernel': ['linear', 'poly', 'rbf'], 'svm__gamma': [0.1, 0.5, 1]},\n",
       "       pre_dispatch='2*n_jobs', refit=True, return_train_score='warn',\n",
       "       scoring='accuracy', verbose=0)"
      ]
     },
     "execution_count": 11,
     "metadata": {},
     "output_type": "execute_result"
    }
   ],
   "source": [
    "np.random.seed(5622)\n",
    "# Define pipeline using make_pipeline with vectorizer and SVM Classifier\n",
    "# YOUR CODE HERE\n",
    "pipe = Pipeline(steps=[('vectorizer', vectorizer), ('svm', SVC())])\n",
    "# raise NotImplementedError()\n",
    "param_grid = {\n",
    "    'svm__C': [0.01, 1.0, 10.0],\n",
    "    'svm__degree': [2, 3],\n",
    "    'svm__kernel': ['linear', 'poly', 'rbf'],\n",
    "    'svm__gamma': [0.1, 0.5, 1]\n",
    "}\n",
    "# Create GridSearchCV with pipeline and the grid search parameters given above,\n",
    "# using \"accuracy\" for scoring.\n",
    "g = GridSearchCV(pipe, param_grid, scoring='accuracy', n_jobs=-1) \n",
    "g.fit(X_train, y_train)\n",
    "# YOUR CODE HERE\n",
    "# raise NotImplementedError()\n",
    "\n",
    "# For debugging purposes, it makes sense to use a smaller set of training set to speed up the grid search progress\n",
    "# _ = grid_svm.fit(X_train, y_train)"
   ]
  },
  {
   "cell_type": "code",
   "execution_count": 12,
   "metadata": {
    "ExecuteTime": {
     "end_time": "2019-11-09T02:11:50.590689Z",
     "start_time": "2019-11-09T02:11:50.582847Z"
    },
    "nbgrader": {
     "cell_type": "code",
     "checksum": "089068689cee53bba013581b01e8c6cc",
     "grade": true,
     "grade_id": "cell-47833f7ec14a9d22",
     "locked": false,
     "points": 5,
     "schema_version": 3,
     "solution": true,
     "task": false
    }
   },
   "outputs": [
    {
     "name": "stdout",
     "output_type": "stream",
     "text": [
      "Best Params:  {'svm__C': 0.01, 'svm__degree': 2, 'svm__gamma': 0.1, 'svm__kernel': 'linear'}\n",
      "Best Score:  0.86525\n"
     ]
    }
   ],
   "source": [
    "# Report best parameters and CV score from grid search\n",
    "# YOUR CODE HERE\n",
    "print('Best Params: ', g.best_params_)\n",
    "print('Best Score: ', g.best_score_)\n",
    "# raise NotImplementedError()"
   ]
  },
  {
   "cell_type": "code",
   "execution_count": 13,
   "metadata": {
    "ExecuteTime": {
     "end_time": "2019-11-09T02:11:56.048225Z",
     "start_time": "2019-11-09T02:11:53.398249Z"
    }
   },
   "outputs": [
    {
     "name": "stdout",
     "output_type": "stream",
     "text": [
      "Accuracy Score:  0.876\n"
     ]
    }
   ],
   "source": [
    "y_pred = g.predict(X_test)\n",
    "print('Accuracy Score: ', accuracy_score(y_test, y_pred))"
   ]
  },
  {
   "cell_type": "markdown",
   "metadata": {},
   "source": [
    "**Part 3 [10 points]:**\n",
    "\n",
    "Choose the best performing kernel and parameter values from your coarse scale grid search and use them to set up a narrower range of parameter values. We will use randomized grid search to sample a fixed number of these candidate parameter sets for cross validation. The number of sampled parameter sets `n_iter` provides a trade-off between computational cost and quality of the \"optimal\" parameters. Feel free to experiment with different values of this parameter, but please change it back to `n_iter = 5` before submitting your assignment."
   ]
  },
  {
   "cell_type": "code",
   "execution_count": 14,
   "metadata": {
    "ExecuteTime": {
     "end_time": "2019-11-09T02:16:16.583530Z",
     "start_time": "2019-11-09T02:12:13.503888Z"
    },
    "nbgrader": {
     "cell_type": "code",
     "checksum": "59e134fffac3e070713e01dd8de977f6",
     "grade": true,
     "grade_id": "cell-e1116a343a3e645a",
     "locked": false,
     "points": 5,
     "schema_version": 3,
     "solution": true,
     "task": false
    }
   },
   "outputs": [
    {
     "name": "stdout",
     "output_type": "stream",
     "text": [
      "Fitting 5 folds for each of 5 candidates, totalling 25 fits\n"
     ]
    },
    {
     "name": "stderr",
     "output_type": "stream",
     "text": [
      "[Parallel(n_jobs=-1)]: Done  25 out of  25 | elapsed:  3.9min finished\n"
     ]
    },
    {
     "name": "stdout",
     "output_type": "stream",
     "text": [
      "Random svm:  RandomizedSearchCV(cv=StratifiedKFold(n_splits=5, random_state=5622, shuffle=True),\n",
      "          error_score='raise',\n",
      "          estimator=Pipeline(memory=None,\n",
      "     steps=[('vectorizer', CountVectorizer(analyzer='word', binary=False, decode_error='strict',\n",
      "        dtype=<class 'numpy.int64'>, encoding='utf-8', input='content',\n",
      "        lowercase=True, max_df=1.0, max_features=None, min_df=2,\n",
      "        ngram_range=(1, 1), preprocessor=None,\n",
      "        stop_words={'the...,\n",
      "  max_iter=-1, probability=False, random_state=None, shrinking=True,\n",
      "  tol=0.001, verbose=False))]),\n",
      "          fit_params=None, iid=True, n_iter=5, n_jobs=-1,\n",
      "          param_distributions={'svm__C': [0.002, 0.004, 0.006, 0.008, 0.01], 'svm__kernel': ['linear'], 'svm__gamma': [0.1]},\n",
      "          pre_dispatch='2*n_jobs', random_state=None, refit=True,\n",
      "          return_train_score='warn', scoring='accuracy', verbose=1)\n"
     ]
    }
   ],
   "source": [
    "# Set random seed for deterministic output\n",
    "np.random.seed(5622)\n",
    "pipeline_svm = pipe\n",
    "kfolds = skf\n",
    "\n",
    "\n",
    "# Set param_grid to a dictionary containing parameter values for fine scale search.\n",
    "# YOUR CODE HERE\n",
    "# raise NotImplementedError()\n",
    "param_grid_rcv = {\n",
    "    'svm__C': [0.002, 0.004, 0.006, 0.008, 0.01],\n",
    "    'svm__kernel': ['linear'],\n",
    "    'svm__gamma': [0.1]\n",
    "}\n",
    "# Create randomized parameter search over fine scale grid;\n",
    "# Do NOT change the value of n_iter in the submitted version of your notebook.\n",
    "n_iter = 5\n",
    "random_svm = RandomizedSearchCV(pipeline_svm,\n",
    "                                param_distributions=param_grid_rcv,\n",
    "                                n_iter=n_iter,\n",
    "                                cv = kfolds,\n",
    "                                scoring=\"accuracy\",\n",
    "                                verbose=1,   \n",
    "                                n_jobs=-1)\n",
    "\n",
    "_ = random_svm.fit(X_train, y_train)\n",
    "print('Random svm: ', random_svm)"
   ]
  },
  {
   "cell_type": "code",
   "execution_count": 15,
   "metadata": {
    "ExecuteTime": {
     "end_time": "2019-11-09T02:17:21.601973Z",
     "start_time": "2019-11-09T02:17:21.594202Z"
    },
    "nbgrader": {
     "cell_type": "code",
     "checksum": "4b5d5fa7e1321d87c5eef4b928afaf25",
     "grade": true,
     "grade_id": "cell-39b5a8b9e508cf0e",
     "locked": false,
     "points": 5,
     "schema_version": 3,
     "solution": true,
     "task": false
    }
   },
   "outputs": [
    {
     "name": "stdout",
     "output_type": "stream",
     "text": [
      "Best Paramters:  {'svm__kernel': 'linear', 'svm__gamma': 0.1, 'svm__C': 0.01}\n",
      "Best Score:  0.87525\n"
     ]
    }
   ],
   "source": [
    "# Report best parameters and CV score from grid search\n",
    "# YOUR CODE HERE\n",
    "print(\"Best Paramters: \", random_svm.best_params_)\n",
    "print(\"Best Score: \", random_svm.best_score_)"
   ]
  },
  {
   "cell_type": "code",
   "execution_count": 16,
   "metadata": {
    "ExecuteTime": {
     "end_time": "2019-11-09T02:17:26.399854Z",
     "start_time": "2019-11-09T02:17:23.771723Z"
    }
   },
   "outputs": [
    {
     "name": "stdout",
     "output_type": "stream",
     "text": [
      "Accuracy Score:  0.876\n"
     ]
    }
   ],
   "source": [
    "y_pred_random = random_svm.predict(X_test)\n",
    "print('Accuracy Score: ', accuracy_score(y_test, y_pred_random))"
   ]
  },
  {
   "cell_type": "code",
   "execution_count": 17,
   "metadata": {
    "ExecuteTime": {
     "end_time": "2019-11-09T02:17:31.383873Z",
     "start_time": "2019-11-09T02:17:31.378518Z"
    }
   },
   "outputs": [],
   "source": [
    "def report_results(model, X, y):\n",
    "    pred = model.predict(X)        \n",
    "    acc = accuracy_score(y, pred)\n",
    "    f1 = f1_score(y, pred)\n",
    "    prec = precision_score(y, pred)\n",
    "    rec = recall_score(y, pred)\n",
    "    result = {'f1': f1, 'acc': acc, 'precision': prec, 'recall': rec}\n",
    "    return result"
   ]
  },
  {
   "cell_type": "code",
   "execution_count": 18,
   "metadata": {
    "ExecuteTime": {
     "end_time": "2019-11-09T02:17:35.720111Z",
     "start_time": "2019-11-09T02:17:32.916098Z"
    }
   },
   "outputs": [
    {
     "data": {
      "text/plain": [
       "{'f1': 0.8784313725490197,\n",
       " 'acc': 0.876,\n",
       " 'precision': 0.8699029126213592,\n",
       " 'recall': 0.8871287128712871}"
      ]
     },
     "execution_count": 18,
     "metadata": {},
     "output_type": "execute_result"
    }
   ],
   "source": [
    "report_results(random_svm.best_estimator_, X_test, y_test)"
   ]
  },
  {
   "cell_type": "markdown",
   "metadata": {},
   "source": [
    "**Part 4 [5 points]:**\n",
    "\n",
    "Explain the overall procedure, and report the final result including which hyperparameter values were chosen. Make sure to explain your reasoning in choosing a refined parameter search space in **Part 3**."
   ]
  },
  {
   "cell_type": "markdown",
   "metadata": {
    "nbgrader": {
     "cell_type": "markdown",
     "checksum": "651d32596f089e5e6a6cc978c6f79cd6",
     "grade": true,
     "grade_id": "cell-6fecb92ed6ad5abe",
     "locked": false,
     "points": 5,
     "schema_version": 3,
     "solution": true
    }
   },
   "source": [
    "We used gridsearchCV for parameter tuning. We specified all our paramters in the form of a grid. We initially tokenize all training points and build a corpus that is passed to countVectorizer which is the first step in our sklearn pipeline. CountVectorizer builds the term frequencies for each text from the corpus. The last entity in scikit-learn pipeline should implement the fit menthod and that is where the classifier is defind, linear SVC in this case. We provide our parameter grid and the pipeline object to the GridSearchCV function where it trains the model with a combination of hyperparamters and returns the best results.\n",
    "\n",
    "We finally use randomizedSearchCV after obtaining the best hyperparameters from gridsearch to narrow down the best hyperparmaters. Our input is divided into 5 folds defined by the 'skf' variable above. GridSearch is computationally exhaustive than randomized search cv as we are sampling over a few hyperparameters in the latter. RandomizedSearch is to narrow down the hyperparmeters in the best parameters space.\n",
    "\n",
    "Best Parameters: {'svm__kernel': 'linear', 'svm__gamma': 0.1, 'svm__C': 0.01}   \n",
    "Accuracy Score: 0.87525"
   ]
  },
  {
   "cell_type": "markdown",
   "metadata": {},
   "source": [
    "### Optional survey.\n",
    "***\n",
    "\n",
    "We are always interested in your feedback. At the end of each homework, there is a simple anonymous feedback [survey](https://forms.gle/bEaNM6G2qFRKhU4Z9) to solicit your feedback for how to improve the course."
   ]
  },
  {
   "cell_type": "code",
   "execution_count": null,
   "metadata": {},
   "outputs": [],
   "source": []
  }
 ],
 "metadata": {
  "hide_input": false,
  "kernelspec": {
   "display_name": "Python 3",
   "language": "python",
   "name": "python3"
  },
  "language_info": {
   "codemirror_mode": {
    "name": "ipython",
    "version": 3
   },
   "file_extension": ".py",
   "mimetype": "text/x-python",
   "name": "python",
   "nbconvert_exporter": "python",
   "pygments_lexer": "ipython3",
   "version": "3.6.5"
  },
  "latex_envs": {
   "LaTeX_envs_menu_present": true,
   "autoclose": false,
   "autocomplete": true,
   "bibliofile": "biblio.bib",
   "cite_by": "apalike",
   "current_citInitial": 1,
   "eqLabelWithNumbers": true,
   "eqNumInitial": 1,
   "hotkeys": {
    "equation": "Ctrl-E",
    "itemize": "Ctrl-I"
   },
   "labels_anchors": false,
   "latex_user_defs": false,
   "report_style_numbering": false,
   "user_envs_cfg": false
  },
  "nbTranslate": {
   "displayLangs": [
    "*"
   ],
   "hotkey": "alt-t",
   "langInMainMenu": true,
   "sourceLang": "en",
   "targetLang": "fr",
   "useGoogleTranslate": true
  },
  "toc": {
   "base_numbering": 1,
   "nav_menu": {},
   "number_sections": true,
   "sideBar": true,
   "skip_h1_title": false,
   "title_cell": "Table of Contents",
   "title_sidebar": "Contents",
   "toc_cell": false,
   "toc_position": {},
   "toc_section_display": true,
   "toc_window_display": false
  },
  "varInspector": {
   "cols": {
    "lenName": 16,
    "lenType": 16,
    "lenVar": 40
   },
   "kernels_config": {
    "python": {
     "delete_cmd_postfix": "",
     "delete_cmd_prefix": "del ",
     "library": "var_list.py",
     "varRefreshCmd": "print(var_dic_list())"
    },
    "r": {
     "delete_cmd_postfix": ") ",
     "delete_cmd_prefix": "rm(",
     "library": "var_list.r",
     "varRefreshCmd": "cat(var_dic_list()) "
    }
   },
   "types_to_exclude": [
    "module",
    "function",
    "builtin_function_or_method",
    "instance",
    "_Feature"
   ],
   "window_display": false
  }
 },
 "nbformat": 4,
 "nbformat_minor": 2
}
